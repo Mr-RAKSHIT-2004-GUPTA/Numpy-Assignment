{
 "cells": [
  {
   "cell_type": "markdown",
   "id": "8dd0e1f4-57bb-4559-a82d-e0fd24ef89c9",
   "metadata": {},
   "source": [
    "question 1 \n"
   ]
  },
  {
   "cell_type": "code",
   "execution_count": 3,
   "id": "b4bcb712-1632-409a-88f4-88e4c32389ec",
   "metadata": {},
   "outputs": [
    {
     "name": "stdout",
     "output_type": "stream",
     "text": [
      "type  int32\n",
      "[0 1 2 3 4 5]\n"
     ]
    }
   ],
   "source": [
    "import numpy as np\n",
    "array = np.arange(6)\n",
    "print(\"type \",array.dtype)\n",
    "print(array)"
   ]
  },
  {
   "cell_type": "markdown",
   "id": "229ba951-5f92-4bdf-a83d-11173949efd4",
   "metadata": {},
   "source": [
    "Question 2 "
   ]
  },
  {
   "cell_type": "code",
   "execution_count": 7,
   "id": "48ed38fe-46bd-42b3-afdc-b0ee72cd600b",
   "metadata": {},
   "outputs": [
    {
     "name": "stdout",
     "output_type": "stream",
     "text": [
      "yes\n"
     ]
    }
   ],
   "source": [
    "arr = np.array([1.5, 2.6, 3.7])\n",
    "if arr.dtype == 'float64':\n",
    "    print(\"yes\")"
   ]
  },
  {
   "cell_type": "markdown",
   "id": "5652c50c-ddb8-4dc3-9cb4-c12902a0284a",
   "metadata": {},
   "source": [
    "Question 3 "
   ]
  },
  {
   "cell_type": "code",
   "execution_count": 8,
   "id": "9dd993dd-f2b5-4db6-8c62-03467e1d1676",
   "metadata": {},
   "outputs": [
    {
     "name": "stdout",
     "output_type": "stream",
     "text": [
      "[1.+2.j 2.-3.j 3.+4.j]\n"
     ]
    }
   ],
   "source": [
    "import numpy as np\n",
    "arr = np.array([1+2j, 2-3j, 3+4j], dtype=np.complex128)\n",
    "print(arr)"
   ]
  },
  {
   "cell_type": "markdown",
   "id": "7e05bfaf-eaed-45a4-a5e5-c269877b3b98",
   "metadata": {},
   "source": [
    "Question 4\n"
   ]
  },
  {
   "cell_type": "code",
   "execution_count": 10,
   "id": "cee32a97-4cf3-4a2f-aac3-5e885fd831d8",
   "metadata": {},
   "outputs": [
    {
     "name": "stdout",
     "output_type": "stream",
     "text": [
      "[0 1 2 3 4 5] int32\n",
      "[0. 1. 2. 3. 4. 5.] float32\n"
     ]
    }
   ],
   "source": [
    "array = np.arange(6)\n",
    "print(array , array.dtype)\n",
    "array = array.astype(np.float32)\n",
    "print(array , array.dtype)"
   ]
  },
  {
   "cell_type": "markdown",
   "id": "4058fe39-dd62-4503-a699-3dbe7486532b",
   "metadata": {},
   "source": [
    "Question 5"
   ]
  },
  {
   "cell_type": "code",
   "execution_count": 11,
   "id": "c0bfbeb8-e0b5-4007-bc22-8a50900344e8",
   "metadata": {},
   "outputs": [
    {
     "name": "stdout",
     "output_type": "stream",
     "text": [
      "[1.1234568 2.9876542 3.1415927]\n",
      "Data type: float32\n"
     ]
    }
   ],
   "source": [
    "import numpy as np\n",
    "arr = np.array([1.123456789, 2.987654321, 3.141592653])\n",
    "arr_float32 = arr.astype(np.float32)\n",
    "print(arr_float32)\n",
    "print(\"Data type:\", arr_float32.dtype)"
   ]
  },
  {
   "cell_type": "markdown",
   "id": "1c7a4fc5-64e4-44f2-ba9b-b7db024e335c",
   "metadata": {},
   "source": [
    "Question 6"
   ]
  },
  {
   "cell_type": "code",
   "execution_count": 12,
   "id": "2c7c8661-82d4-4ce8-bd3c-32bd8065a983",
   "metadata": {},
   "outputs": [
    {
     "name": "stdout",
     "output_type": "stream",
     "text": [
      "Shape: (2, 3)\n",
      "Size: 6\n",
      "Data type: int32\n"
     ]
    }
   ],
   "source": [
    "import numpy as np\n",
    "\n",
    "def array_attributes(arr):\n",
    "    shape = arr.shape\n",
    "    size = arr.size\n",
    "    dtype = arr.dtype\n",
    "    return shape, size, dtype\n",
    "\n",
    "# Example usage:\n",
    "arr = np.array([[1, 2, 3], [4, 5, 6]])\n",
    "shape, size, dtype = array_attributes(arr)\n",
    "\n",
    "print(\"Shape:\", shape)\n",
    "print(\"Size:\", size)\n",
    "print(\"Data type:\", dtype)"
   ]
  },
  {
   "cell_type": "markdown",
   "id": "582ff005-5d55-47fa-b848-9434b5135040",
   "metadata": {},
   "source": [
    "Question 7"
   ]
  },
  {
   "cell_type": "code",
   "execution_count": 15,
   "id": "3a49681a-96fc-4f2b-878f-12e5f3176595",
   "metadata": {},
   "outputs": [
    {
     "name": "stdout",
     "output_type": "stream",
     "text": [
      "dimension of array 1\n"
     ]
    }
   ],
   "source": [
    "def array_dimension(arr):\n",
    "    dim = arr.ndim\n",
    "    return dim\n",
    "arr = np.arange(20)\n",
    "print(\"dimension of array\",array_dimension(arr))"
   ]
  },
  {
   "cell_type": "markdown",
   "id": "e4a5ceba-79d4-41ee-82fa-a4f9c37376ed",
   "metadata": {},
   "source": [
    "Question 8"
   ]
  },
  {
   "cell_type": "code",
   "execution_count": 14,
   "id": "4103f6b2-c5b5-44be-9da5-43a4a8243f47",
   "metadata": {},
   "outputs": [
    {
     "name": "stdout",
     "output_type": "stream",
     "text": [
      "element size :  4\n",
      "arr_size :  36\n"
     ]
    }
   ],
   "source": [
    "def  item_size_info(arr):\n",
    "    item_size = arr.itemsize\n",
    "    arr_size = arr.nbytes\n",
    "    return item_size , arr_size\n",
    "\n",
    "arr = np.arange(9)\n",
    "elem_size , arr_size = item_size_info(arr)\n",
    "print(\"element size : \",elem_size)\n",
    "print(\"arr_size : \" , arr_size)"
   ]
  },
  {
   "cell_type": "markdown",
   "id": "e4db3fa9-4211-4cf0-9959-d59aa80e031a",
   "metadata": {},
   "source": [
    "Question 9"
   ]
  },
  {
   "cell_type": "code",
   "execution_count": 17,
   "id": "e7a403f0-0552-4c52-8518-b90ffdd89724",
   "metadata": {},
   "outputs": [
    {
     "name": "stdout",
     "output_type": "stream",
     "text": [
      "Strides: (12, 4)\n"
     ]
    }
   ],
   "source": [
    "import numpy as np\n",
    "\n",
    "def array_strides(arr):\n",
    "    strides = arr.strides\n",
    "    return strides\n",
    "arr = np.array([[1, 2, 3], [4, 5, 6]])\n",
    "strides = array_strides(arr)\n",
    "print(\"Strides:\", strides)"
   ]
  },
  {
   "cell_type": "markdown",
   "id": "3b252828-2a4a-49c8-b9d5-77a1b1e4afed",
   "metadata": {},
   "source": [
    "Question 10"
   ]
  },
  {
   "cell_type": "code",
   "execution_count": 18,
   "id": "d88ea22f-d917-477e-8ee3-c6a3e99e2ad1",
   "metadata": {},
   "outputs": [
    {
     "name": "stdout",
     "output_type": "stream",
     "text": [
      "Shape: (2, 3)\n",
      "Strides: (12, 4)\n"
     ]
    }
   ],
   "source": [
    "\n",
    "import numpy as np\n",
    "\n",
    "def shape_stride_relationship(arr):\n",
    "    shape = arr.shape\n",
    "    strides = arr.strides\n",
    "    return shape, strides\n",
    "arr = np.array([[1, 2, 3], [4, 5, 6]])\n",
    "shape, strides = shape_stride_relationship(arr)\n",
    "print(\"Shape:\", shape)\n",
    "print(\"Strides:\", strides)"
   ]
  },
  {
   "cell_type": "markdown",
   "id": "a666d92d-2f75-4768-8783-69ff4901660a",
   "metadata": {},
   "source": [
    "Question 11"
   ]
  },
  {
   "cell_type": "code",
   "execution_count": 21,
   "id": "804547a3-6700-4e59-8f07-a20cfcfd4298",
   "metadata": {},
   "outputs": [
    {
     "data": {
      "text/plain": [
       "array([0., 0., 0., 0., 0.])"
      ]
     },
     "execution_count": 21,
     "metadata": {},
     "output_type": "execute_result"
    }
   ],
   "source": [
    "\n",
    "def create_zeros_array(n):\n",
    "    return np.zeros(n)\n",
    "\n",
    "create_zeros_array(5)"
   ]
  },
  {
   "cell_type": "markdown",
   "id": "4c81e507-6cff-4894-84d5-6b2973f38b12",
   "metadata": {},
   "source": [
    "Question 12"
   ]
  },
  {
   "cell_type": "code",
   "execution_count": 22,
   "id": "a398312b-36b8-4c36-95c2-dd5f723e610d",
   "metadata": {},
   "outputs": [
    {
     "data": {
      "text/plain": [
       "array([[1., 1., 1., 1.],\n",
       "       [1., 1., 1., 1.],\n",
       "       [1., 1., 1., 1.]])"
      ]
     },
     "execution_count": 22,
     "metadata": {},
     "output_type": "execute_result"
    }
   ],
   "source": [
    "def create_ones_matrix(rows,cols):\n",
    "    return np.ones((rows,cols))\n",
    "create_ones_matrix(3,4)"
   ]
  },
  {
   "cell_type": "markdown",
   "id": "51808d2d-b096-40f2-bc1f-d244aa2ce97a",
   "metadata": {},
   "source": [
    "Question 13"
   ]
  },
  {
   "cell_type": "code",
   "execution_count": 23,
   "id": "53163422-ea72-4b1a-ae03-b09fd5ecfb34",
   "metadata": {},
   "outputs": [
    {
     "name": "stdout",
     "output_type": "stream",
     "text": [
      "[0 2 4 6 8]\n"
     ]
    }
   ],
   "source": [
    "import numpy as np\n",
    "\n",
    "def generate_range_array(start, stop, step):\n",
    "    return np.arange(start, stop, step)\n",
    "start = 0\n",
    "stop = 10\n",
    "step = 2\n",
    "range_array = generate_range_array(start, stop, step)\n",
    "\n",
    "print(range_array)"
   ]
  },
  {
   "cell_type": "markdown",
   "id": "89b0974e-a424-4602-b98c-aca611eb4eb4",
   "metadata": {},
   "source": [
    "quesiton 14"
   ]
  },
  {
   "cell_type": "code",
   "execution_count": 26,
   "id": "8bf4770a-bcbd-4e14-ae16-78347783b49f",
   "metadata": {},
   "outputs": [
    {
     "name": "stdout",
     "output_type": "stream",
     "text": [
      "[ 0.   2.5  5.   7.5 10. ]\n"
     ]
    }
   ],
   "source": [
    "def generate_linear_space(start ,stop , num):\n",
    "    return np.linspace(start,stop,num)\n",
    "start = 0.0\n",
    "stop = 10.0\n",
    "num = 5\n",
    "linear_space = generate_linear_space(start, stop, num)\n",
    "print(linear_space)"
   ]
  },
  {
   "cell_type": "markdown",
   "id": "d94f14b1-96bf-45cc-bdab-13e15437b427",
   "metadata": {},
   "source": [
    "Question 15"
   ]
  },
  {
   "cell_type": "code",
   "execution_count": 27,
   "id": "f9ceb66e-8422-412e-a3fe-01961572190b",
   "metadata": {},
   "outputs": [
    {
     "data": {
      "text/plain": [
       "array([[1., 0., 0., 0.],\n",
       "       [0., 1., 0., 0.],\n",
       "       [0., 0., 1., 0.],\n",
       "       [0., 0., 0., 1.]])"
      ]
     },
     "execution_count": 27,
     "metadata": {},
     "output_type": "execute_result"
    }
   ],
   "source": [
    "def create_identity_matrix(n):\n",
    "    return np.eye(n)\n",
    "n = 4\n",
    "create_identity_matrix(n)\n",
    "    "
   ]
  },
  {
   "cell_type": "markdown",
   "id": "fa0f5822-0342-42c4-9658-d31ca8c68c5b",
   "metadata": {},
   "source": [
    "Question 16"
   ]
  },
  {
   "cell_type": "code",
   "execution_count": 28,
   "id": "7149326f-33e1-4f06-95cd-86ea6bc877b0",
   "metadata": {},
   "outputs": [
    {
     "name": "stdout",
     "output_type": "stream",
     "text": [
      "[ 1  2  3  4 54  5  6 67]\n"
     ]
    }
   ],
   "source": [
    "def convert_array(lst):\n",
    "    return np.array(lst)\n",
    "lst = [1,2,3,4,54,5,6,67]\n",
    "print(convert_array(lst))"
   ]
  },
  {
   "cell_type": "markdown",
   "id": "afeac4b4-48f4-4fc5-ac76-a55894bbe5d2",
   "metadata": {},
   "source": [
    "Question 17\n"
   ]
  },
  {
   "cell_type": "code",
   "execution_count": 29,
   "id": "2ab7bd23-70b2-423b-85f7-648390b20bab",
   "metadata": {},
   "outputs": [
    {
     "name": "stdout",
     "output_type": "stream",
     "text": [
      "Original array: [1 2 3 4 5]\n",
      "Viewed array: [1 2 3 4 5]\n"
     ]
    }
   ],
   "source": [
    "import numpy as np\n",
    "\n",
    "arr = np.array([1, 2, 3, 4, 5])\n",
    "arr_view = arr.view()\n",
    "print(\"Original array:\", arr)\n",
    "print(\"Viewed array:\", arr_view)"
   ]
  },
  {
   "cell_type": "markdown",
   "id": "ef858403-5680-4430-916d-6a6647c097b1",
   "metadata": {},
   "source": [
    "Question 18"
   ]
  },
  {
   "cell_type": "code",
   "execution_count": 31,
   "id": "af1786fc-99b5-4361-8fd3-50dd025c0ca9",
   "metadata": {},
   "outputs": [
    {
     "data": {
      "text/plain": [
       "array([[1, 2],\n",
       "       [3, 4],\n",
       "       [5, 6],\n",
       "       [7, 8]])"
      ]
     },
     "execution_count": 31,
     "metadata": {},
     "output_type": "execute_result"
    }
   ],
   "source": [
    "def concatenate_function(arr1 , arr2):\n",
    "    return np.concatenate((arr1,arr2) , axis = 0)#rows\n",
    "arr1 = np.array([[1, 2], [3, 4]])\n",
    "arr2 = np.array([[5, 6], [7, 8]])\n",
    "concatenate_function(arr1 , arr2)"
   ]
  },
  {
   "cell_type": "code",
   "execution_count": 34,
   "id": "c685150b-0369-43c6-be6b-73d06a3110a5",
   "metadata": {},
   "outputs": [
    {
     "data": {
      "text/plain": [
       "array([[ 1,  2,  5,  6,  7],\n",
       "       [ 3,  4,  8,  9, 10]])"
      ]
     },
     "execution_count": 34,
     "metadata": {},
     "output_type": "execute_result"
    }
   ],
   "source": [
    "#question 19\n",
    "def concatenate_numpy_array(arr1 , arr2):\n",
    "    return np.concatenate((arr1,arr2) , axis = 1)\n",
    "arr1 = np.array([[1, 2], [3, 4]])\n",
    "arr2 = np.array([[5, 6, 7], [8, 9, 10]])\n",
    "concatenate_numpy_array(arr1,arr2)"
   ]
  },
  {
   "cell_type": "code",
   "execution_count": 35,
   "id": "e5a51a85-28fa-4b11-a0ab-781078cceec1",
   "metadata": {},
   "outputs": [
    {
     "data": {
      "text/plain": [
       "array([[ 1,  2],\n",
       "       [ 3,  4],\n",
       "       [ 5,  6],\n",
       "       [ 7,  8],\n",
       "       [ 9, 10],\n",
       "       [11, 12]])"
      ]
     },
     "execution_count": 35,
     "metadata": {},
     "output_type": "execute_result"
    }
   ],
   "source": [
    "#question 20\n",
    "def vertical_stack(arrays):\n",
    "    return np.vstack(arrays)\n",
    "arr1 = np.array([[1, 2], [3, 4]])\n",
    "arr2 = np.array([[5, 6], [7, 8]])\n",
    "arr3 = np.array([[9, 10], [11, 12]])\n",
    "arrays = [arr1,arr2,arr3]\n",
    "vertical_stack(arrays)"
   ]
  },
  {
   "cell_type": "code",
   "execution_count": 36,
   "id": "3cb9e618-de23-4512-ace9-67741e5d1213",
   "metadata": {},
   "outputs": [
    {
     "name": "stdout",
     "output_type": "stream",
     "text": [
      "[1 3 5 7 9]\n"
     ]
    }
   ],
   "source": [
    "#question 21\n",
    "def create_array(start,end,step):\n",
    "    return np.arange(start,end+1,step)\n",
    "start = 1\n",
    "end = 10\n",
    "step = 2\n",
    "array = create_array(start, end, step)\n",
    "print(array)"
   ]
  },
  {
   "cell_type": "code",
   "execution_count": 38,
   "id": "3b1677bb-8bc6-4442-8a85-ffea5126424e",
   "metadata": {},
   "outputs": [
    {
     "name": "stdout",
     "output_type": "stream",
     "text": [
      "[0.         0.11111111 0.22222222 0.33333333 0.44444444 0.55555556\n",
      " 0.66666667 0.77777778 0.88888889 1.        ]\n"
     ]
    }
   ],
   "source": [
    "#question 22\n",
    "def Equal_space():\n",
    "    return np.linspace(0,1,10)\n",
    "array = Equal_space()\n",
    "print(array)"
   ]
  },
  {
   "cell_type": "code",
   "execution_count": 39,
   "id": "51acde13-4f28-4951-ac73-a6d68c8306a8",
   "metadata": {},
   "outputs": [
    {
     "name": "stdout",
     "output_type": "stream",
     "text": [
      "[   1.            5.62341325   31.6227766   177.827941   1000.        ]\n"
     ]
    }
   ],
   "source": [
    "#question 23\n",
    "import numpy as np\n",
    "\n",
    "def generate_logarithmically_spaced_values():\n",
    "    return np.logspace(np.log10(1), np.log10(1000), 5)\n",
    "array = generate_logarithmically_spaced_values()\n",
    "print(array)"
   ]
  },
  {
   "cell_type": "code",
   "execution_count": 41,
   "id": "73fe3aa1-6da6-4254-84bc-971b8c600d30",
   "metadata": {},
   "outputs": [
    {
     "name": "stdout",
     "output_type": "stream",
     "text": [
      "    A   B   C\n",
      "0  57  27  90\n",
      "1   2  42  84\n",
      "2  39  70  90\n",
      "3  75  86  15\n",
      "4  41  14  92\n"
     ]
    }
   ],
   "source": [
    "#question 24\n",
    "import numpy as np\n",
    "import pandas as pd\n",
    "\n",
    "\n",
    "data = np.random.randint(1, 101, size=(5, 3))\n",
    "\n",
    "\n",
    "df = pd.DataFrame(data, columns=['A', 'B', 'C'])\n",
    "\n",
    "print(df)"
   ]
  },
  {
   "cell_type": "code",
   "execution_count": 43,
   "id": "5169ff01-b85c-4a20-8c7a-19c58c8b39ac",
   "metadata": {},
   "outputs": [
    {
     "name": "stdout",
     "output_type": "stream",
     "text": [
      "   A  B\n",
      "0  0  5\n",
      "1  2 -6\n",
      "2  0  7\n",
      "3  4 -8\n"
     ]
    }
   ],
   "source": [
    "#question 25\n",
    "def replace_negative(df,column):\n",
    "    df[column] = np.where(df[column]<0 , 0 , df[column])\n",
    "    return df\n",
    "df = pd.DataFrame({'A': [-1, 2, -3, 4], 'B': [5, -6, 7, -8]})\n",
    "print(replace_negative(df, 'A'))\n",
    "    \n",
    "    "
   ]
  },
  {
   "cell_type": "code",
   "execution_count": 44,
   "id": "c161524f-b98f-4bc4-a4a9-c676b61773c5",
   "metadata": {},
   "outputs": [
    {
     "name": "stdout",
     "output_type": "stream",
     "text": [
      "30\n"
     ]
    }
   ],
   "source": [
    "#question 26\n",
    "arr = np.array([10, 20, 30, 40, 50])\n",
    "print(arr[2])"
   ]
  },
  {
   "cell_type": "code",
   "execution_count": 47,
   "id": "08ccb5fb-bf89-43df-bd61-9670b3b759a4",
   "metadata": {},
   "outputs": [
    {
     "name": "stdout",
     "output_type": "stream",
     "text": [
      "6\n"
     ]
    }
   ],
   "source": [
    "#question 27\n",
    "arr_2d = np.array([[1, 2, 3],[4, 5, 6],[7, 8, 9]])\n",
    "print(arr_2d[1,2])"
   ]
  },
  {
   "cell_type": "code",
   "execution_count": 48,
   "id": "c064a5ce-079d-4ce4-991d-ddd0588c7fdd",
   "metadata": {},
   "outputs": [
    {
     "name": "stdout",
     "output_type": "stream",
     "text": [
      "[ 8 10  7]\n"
     ]
    }
   ],
   "source": [
    "#question 28\n",
    "arr = np.array([3, 8, 2, 10, 5, 7])\n",
    "print(arr[arr > 5])"
   ]
  },
  {
   "cell_type": "code",
   "execution_count": 53,
   "id": "9073194b-9075-4795-b4dc-f8a176ba9f72",
   "metadata": {},
   "outputs": [
    {
     "name": "stdout",
     "output_type": "stream",
     "text": [
      "[3 4 5 6]\n"
     ]
    }
   ],
   "source": [
    "#question 29\n",
    "arr = np.array([1, 2, 3, 4, 5, 6, 7, 8, 9])\n",
    "print(arr[2:6])"
   ]
  },
  {
   "cell_type": "code",
   "execution_count": 54,
   "id": "f0b00187-c54a-4978-a548-d3a5ceae685e",
   "metadata": {},
   "outputs": [
    {
     "name": "stdout",
     "output_type": "stream",
     "text": [
      "[[2 3]\n",
      " [5 6]]\n"
     ]
    }
   ],
   "source": [
    "#question 30\n",
    "arr_2d = np.array([[1, 2, 3],\n",
    "                   [4, 5, 6],\n",
    "                   [7, 8, 9]])\n",
    "print(arr_2d[0:2,1:3])"
   ]
  },
  {
   "cell_type": "code",
   "execution_count": 55,
   "id": "07608c4a-ebe5-439e-a01a-8274e530be2e",
   "metadata": {},
   "outputs": [
    {
     "name": "stdout",
     "output_type": "stream",
     "text": [
      "[2 4 6]\n"
     ]
    }
   ],
   "source": [
    "#question 31\n",
    "def extract_elements(arr, indices):\n",
    "    return np.take(arr, indices)\n",
    "arr = np.array([[1, 2, 3], [4, 5, 6], [7, 8, 9]])\n",
    "indices = np.array([1, 3, 5])\n",
    "print(extract_elements(arr, indices))  "
   ]
  },
  {
   "cell_type": "code",
   "execution_count": 56,
   "id": "13850f6e-9a5a-45b0-80b2-acc5d0a7767a",
   "metadata": {},
   "outputs": [
    {
     "name": "stdout",
     "output_type": "stream",
     "text": [
      "[6 7 8 9]\n"
     ]
    }
   ],
   "source": [
    "#question 32\n",
    "import numpy as np\n",
    "def filter_elements(arr, threshold):\n",
    "    return arr[arr > threshold]\n",
    "arr = np.array([1, 2, 3, 4, 5, 6, 7, 8, 9])\n",
    "threshold = 5\n",
    "print(filter_elements(arr, threshold)) "
   ]
  },
  {
   "cell_type": "code",
   "execution_count": 60,
   "id": "6326acf7-5245-4dd8-8a3e-69d84017b25b",
   "metadata": {},
   "outputs": [
    {
     "name": "stdout",
     "output_type": "stream",
     "text": [
      "[0.99595273 0.19672031]\n"
     ]
    }
   ],
   "source": [
    "#question 33\n",
    "import numpy as np\n",
    "\n",
    "def extract_elements(arr, idx1, idx2, idx3):\n",
    "    return arr[idx1, idx2, idx3]\n",
    "arr = np.random.rand(3, 4, 5)\n",
    "idx1 = np.array([0, 2])\n",
    "idx2 = np.array([1, 3])\n",
    "idx3 = np.array([0, 2])\n",
    "print(extract_elements(arr, idx1, idx2, idx3))"
   ]
  },
  {
   "cell_type": "code",
   "execution_count": 61,
   "id": "720ade8e-d555-4d8c-9fc4-c0ba9958a540",
   "metadata": {},
   "outputs": [
    {
     "name": "stdout",
     "output_type": "stream",
     "text": [
      "[4 6 8]\n"
     ]
    }
   ],
   "source": [
    "#question 34\n",
    "import numpy as np\n",
    "def filter_elements(arr, cond1, cond2):\n",
    "    return arr[(cond1) & (cond2)]\n",
    "    \n",
    "arr = np.array([1, 2, 3, 4, 5, 6, 7, 8, 9])\n",
    "cond1 = arr > 3\n",
    "cond2 = arr % 2 == 0\n",
    "print(filter_elements(arr, cond1, cond2))"
   ]
  },
  {
   "cell_type": "code",
   "execution_count": 62,
   "id": "a7800d9d-5cfe-4da6-b270-32ab046d946e",
   "metadata": {},
   "outputs": [
    {
     "name": "stdout",
     "output_type": "stream",
     "text": [
      "[2 9]\n"
     ]
    }
   ],
   "source": [
    "#question 35\n",
    "import numpy as np\n",
    "\n",
    "def extract_elements(arr, row_indices, col_indices):\n",
    "    return arr[row_indices, col_indices]\n",
    "arr = np.array([[1, 2, 3], [4, 5, 6], [7, 8, 9]])\n",
    "row_indices = np.array([0, 2])\n",
    "col_indices = np.array([1, 2])\n",
    "print(extract_elements(arr, row_indices, col_indices)) "
   ]
  },
  {
   "cell_type": "code",
   "execution_count": 63,
   "id": "f6f6d086-eb43-49c2-b3aa-75200f037a28",
   "metadata": {},
   "outputs": [
    {
     "name": "stdout",
     "output_type": "stream",
     "text": [
      "Original array:\n",
      "[[1 2 3]\n",
      " [4 5 6]\n",
      " [7 8 9]]\n",
      "Array after adding 5:\n",
      "[[ 6  7  8]\n",
      " [ 9 10 11]\n",
      " [12 13 14]]\n"
     ]
    }
   ],
   "source": [
    "#question 36\n",
    "\n",
    "import numpy as np\n",
    "\n",
    "arr = np.array([[1, 2, 3], [4, 5, 6], [7, 8, 9]])\n",
    "print(\"Original array:\")\n",
    "print(arr)\n",
    "\n",
    "arr += 5\n",
    "\n",
    "print(\"Array after adding 5:\")\n",
    "print(arr)"
   ]
  },
  {
   "cell_type": "code",
   "execution_count": 1,
   "id": "bba0e467-a57e-4c94-814e-4b0063cf4068",
   "metadata": {},
   "outputs": [
    {
     "name": "stdout",
     "output_type": "stream",
     "text": [
      "[[ 1  2  3  4]\n",
      " [10 12 14 16]\n",
      " [27 30 33 36]]\n"
     ]
    }
   ],
   "source": [
    "#question 37\n",
    "import numpy as np\n",
    "\n",
    "arr1 = np.array([[1, 2, 3]])\n",
    "arr2 = np.array([[1, 2, 3, 4], [5, 6, 7, 8], [9, 10, 11, 12]]) \n",
    "\n",
    "result = arr1.T * arr2\n",
    "\n",
    "print(result)"
   ]
  },
  {
   "cell_type": "code",
   "execution_count": 2,
   "id": "4e7f9896-32d8-4669-a8ee-65e22a66ed14",
   "metadata": {},
   "outputs": [
    {
     "name": "stdout",
     "output_type": "stream",
     "text": [
      "[[ 2  3  4]\n",
      " [ 6  7  8]\n",
      " [10 11 12]\n",
      " [14 15 16]]\n"
     ]
    }
   ],
   "source": [
    "#question 38\n",
    "import numpy as np\n",
    "\n",
    "arr1 = np.array([[1, 2, 3, 4]])  \n",
    "arr2 = np.array([[1, 2, 3], [4, 5, 6], [7, 8, 9], [10, 11, 12]]) \n",
    "result = arr2 + arr1.T\n",
    "\n",
    "print(result)"
   ]
  },
  {
   "cell_type": "code",
   "execution_count": 7,
   "id": "15a9e739-3ed6-4b65-b996-7f79e8f86c45",
   "metadata": {},
   "outputs": [
    {
     "name": "stdout",
     "output_type": "stream",
     "text": [
      "[[2 3 4]\n",
      " [3 4 5]\n",
      " [4 5 6]]\n"
     ]
    }
   ],
   "source": [
    "#question 39\n",
    "arr1 = np.array([[1],[2],[3]])\n",
    "arr2 = np.array([1,2,3])\n",
    "#adding using numpy broadcasting \n",
    "result = arr1 + arr2.T\n",
    "print(result)"
   ]
  },
  {
   "cell_type": "code",
   "execution_count": 14,
   "id": "bdbb0762-e3d9-44b7-aa9b-2698b5d00854",
   "metadata": {},
   "outputs": [
    {
     "name": "stdout",
     "output_type": "stream",
     "text": [
      "[[[ 1  2  3]\n",
      "  [ 8 10 12]]\n",
      "\n",
      " [[ 3  6  9]\n",
      "  [16 20 24]]]\n"
     ]
    }
   ],
   "source": [
    "#question 40\n",
    "import numpy as np\n",
    "arr1 = np.array([[1, 2, 3], [4, 5, 6]])  # Shape (2, 3)\n",
    "arr2 = np.array([[1, 2], [3, 4]])  # Shape (2, 2)\n",
    "\n",
    "arr2 = arr2[:, :, np.newaxis]\n",
    "\n",
    "result = arr1 * arr2\n",
    "\n",
    "print(result)"
   ]
  },
  {
   "cell_type": "code",
   "execution_count": 17,
   "id": "216fcb10-20a2-4250-ae23-1ed157168ee2",
   "metadata": {},
   "outputs": [
    {
     "name": "stdout",
     "output_type": "stream",
     "text": [
      "[2.5 3.5 4.5]\n"
     ]
    }
   ],
   "source": [
    "#question 41\n",
    "arr = np.array([[1, 2, 3], [4, 5, 6]])\n",
    "mean = np.mean(arr , axis = 0)\n",
    "print(mean)"
   ]
  },
  {
   "cell_type": "code",
   "execution_count": 19,
   "id": "1d556225-564e-43f5-81b8-72a1b38865e5",
   "metadata": {},
   "outputs": [
    {
     "name": "stdout",
     "output_type": "stream",
     "text": [
      "[3 6]\n"
     ]
    }
   ],
   "source": [
    "#question 42\n",
    "arr = np.array([[1, 2, 3], [4, 5, 6]])\n",
    "max = np.max(arr , axis = 1)\n",
    "print(max)"
   ]
  },
  {
   "cell_type": "code",
   "execution_count": 20,
   "id": "ab453e26-bc11-4b40-bc1b-d0c72196babb",
   "metadata": {},
   "outputs": [
    {
     "name": "stdout",
     "output_type": "stream",
     "text": [
      "[2 2]\n"
     ]
    }
   ],
   "source": [
    "#question 43\n",
    "arr = np.array([[1, 2, 3], [4, 5, 6]])\n",
    "print(np.argmax(arr , axis = 1))"
   ]
  },
  {
   "cell_type": "code",
   "execution_count": 21,
   "id": "917dd5b1-762b-4367-a018-01fbaf611bdf",
   "metadata": {},
   "outputs": [
    {
     "name": "stdout",
     "output_type": "stream",
     "text": [
      "[[ 3.  5.]\n",
      " [ 9. 11.]]\n"
     ]
    }
   ],
   "source": [
    "#question 44\n",
    "\n",
    "arr = np.array([[1, 2, 3], [4, 5, 6]])\n",
    "#defining function \n",
    "def moving_sum(a, window_size):\n",
    "    return np.convolve(a, np.ones(window_size), mode='valid')\n",
    "\n",
    "# main\n",
    "result = np.apply_along_axis(moving_sum, 1, arr, window_size=2)\n",
    "\n",
    "print(result)"
   ]
  },
  {
   "cell_type": "code",
   "execution_count": 23,
   "id": "b52c6b5a-b761-4415-8da2-6c5c17ed88f6",
   "metadata": {},
   "outputs": [
    {
     "name": "stdout",
     "output_type": "stream",
     "text": [
      "[False False False]\n"
     ]
    }
   ],
   "source": [
    "#question 45\n",
    "arr = np.array([[2, 4, 6], [3, 5, 7]])\n",
    "result  = np.all(arr%2 == 0 , axis = 0)\n",
    "print(result)"
   ]
  },
  {
   "cell_type": "code",
   "execution_count": 25,
   "id": "2659cdb1-cf57-4fba-88b1-ca9649c33dce",
   "metadata": {},
   "outputs": [
    {
     "data": {
      "text/plain": [
       "array([[1, 2, 3],\n",
       "       [4, 5, 6]])"
      ]
     },
     "execution_count": 25,
     "metadata": {},
     "output_type": "execute_result"
    }
   ],
   "source": [
    "#question 46\n",
    "original_array = np.array([1, 2, 3, 4, 5, 6])\n",
    "reshped_array = original_array.reshape(2,3)\n",
    "reshped_array"
   ]
  },
  {
   "cell_type": "code",
   "execution_count": 26,
   "id": "7f4d5131-fb58-4d27-86da-d1118addbfb5",
   "metadata": {},
   "outputs": [
    {
     "name": "stdout",
     "output_type": "stream",
     "text": [
      "[1 2 3 4 5 6]\n"
     ]
    }
   ],
   "source": [
    "#question 47\n",
    "#defining the function \n",
    "def flatten(matrix):\n",
    "    return matrix.flatten()\n",
    "input_matrix = np.array([[1, 2, 3], [4, 5, 6]])\n",
    "print(flatten(input_matrix))"
   ]
  },
  {
   "cell_type": "code",
   "execution_count": 31,
   "id": "a26ee439-3150-41e5-ab05-da31c4c4640f",
   "metadata": {},
   "outputs": [
    {
     "data": {
      "text/plain": [
       "array([[1, 2, 5, 6],\n",
       "       [3, 4, 7, 8]])"
      ]
     },
     "execution_count": 31,
     "metadata": {},
     "output_type": "execute_result"
    }
   ],
   "source": [
    "#question 48\n",
    "def array_row_concate(arr1,arr2 ):\n",
    "    return np.concatenate((arr1,arr2) , axis =1)\n",
    "    \n",
    "array1 = np.array([[1,2],[3,4]])\n",
    "array2 = np.array([[5,6],[7,8]])\n",
    "array_row_concate(array1,array2)"
   ]
  },
  {
   "cell_type": "code",
   "execution_count": 33,
   "id": "0cf4be10-bb4c-4938-87e4-db6999da437e",
   "metadata": {},
   "outputs": [
    {
     "data": {
      "text/plain": [
       "[array([[1],\n",
       "        [4],\n",
       "        [7]]),\n",
       " array([[2],\n",
       "        [5],\n",
       "        [8]]),\n",
       " array([[3],\n",
       "        [6],\n",
       "        [9]])]"
      ]
     },
     "execution_count": 33,
     "metadata": {},
     "output_type": "execute_result"
    }
   ],
   "source": [
    "#question 49\n",
    "def split_array(array, axis, num_subarrays):\n",
    "    return np.split(array, num_subarrays, axis=axis)\n",
    "original_array = np.array([[1, 2, 3], [4, 5, 6], [7, 8, 9]])\n",
    "split_array(original_array ,1,3)"
   ]
  },
  {
   "cell_type": "code",
   "execution_count": 36,
   "id": "dfdf5ab8-bca5-42da-a7f3-693687272b99",
   "metadata": {},
   "outputs": [
    {
     "data": {
      "text/plain": [
       "array([ 1, 10,  4, 11,  5])"
      ]
     },
     "execution_count": 36,
     "metadata": {},
     "output_type": "execute_result"
    }
   ],
   "source": [
    "#question 50\n",
    "def update(array , insert_indices,delete_indices , insert_values):\n",
    "    #inserting the element\n",
    "    array = np.insert(array , insert_indices ,insert_values)\n",
    "    #deleting  the element \n",
    "    array = np.delete(array , delete_indices)\n",
    "    return array\n",
    "original_array = np.array([1, 2, 3, 4, 5])\n",
    "indices_to_insert = [2, 4]\n",
    "values_to_insert = [10, 11]\n",
    "indices_to_delete = [1, 3]\n",
    "update(original_array , indices_to_insert ,indices_to_delete,values_to_insert)"
   ]
  },
  {
   "cell_type": "code",
   "execution_count": 41,
   "id": "a8fab10f-af1f-41fa-bbc8-11e5f0591f22",
   "metadata": {},
   "outputs": [
    {
     "name": "stdout",
     "output_type": "stream",
     "text": [
      "arr`1: [5 7 7 4 6 5 0 8 1 6]\n",
      "arr2 [ 1  2  3  4  5  6  7  8  9 10]\n"
     ]
    },
    {
     "data": {
      "text/plain": [
       "array([ 6,  9, 10,  8, 11, 11,  7, 16, 10, 16])"
      ]
     },
     "execution_count": 41,
     "metadata": {},
     "output_type": "execute_result"
    }
   ],
   "source": [
    "#question 51\n",
    "arr1 = np.random.randint(0,10,size = (10))\n",
    "print(\"arr`1:\",arr1)\n",
    "arr2 = np.arange(1,11)\n",
    "print(\"arr2\" , arr2)\n",
    "result = arr1 + arr2\n",
    "result"
   ]
  },
  {
   "cell_type": "code",
   "execution_count": 42,
   "id": "831c500a-a127-498b-8192-0e4abadbb86c",
   "metadata": {},
   "outputs": [
    {
     "name": "stdout",
     "output_type": "stream",
     "text": [
      "arr`1: [11 10  9  8  7  6  5  4  3  2]\n",
      "arr2 [ 1  2  3  4  5  6  7  8  9 10]\n"
     ]
    },
    {
     "data": {
      "text/plain": [
       "array([10,  8,  6,  4,  2,  0, -2, -4, -6, -8])"
      ]
     },
     "execution_count": 42,
     "metadata": {},
     "output_type": "execute_result"
    }
   ],
   "source": [
    "#question 52\n",
    "arr1 = np.arange(11,1,-1)\n",
    "print(\"arr`1:\",arr1)\n",
    "arr2 = np.arange(1,11)\n",
    "print(\"arr2\" , arr2)\n",
    "result = arr1-arr2\n",
    "result"
   ]
  },
  {
   "cell_type": "code",
   "execution_count": 43,
   "id": "9129c176-5925-4291-8e34-f3bc702d77ea",
   "metadata": {},
   "outputs": [
    {
     "name": "stdout",
     "output_type": "stream",
     "text": [
      "Array 1: [ 2  4  6  8 10]\n",
      "Array 2: [1 2 3 4 5]\n",
      "Result: [2. 2. 2. 2. 2.]\n"
     ]
    }
   ],
   "source": [
    "#question 54\n",
    "arr1 = np.arange(2, 12, 2)\n",
    "print(\"Array 1:\", arr1)\n",
    "arr2 = np.arange(1, 6)\n",
    "print(\"Array 2:\", arr2)\n",
    "\n",
    "# Perform element-wise division\n",
    "result = arr1 / arr2\n",
    "print(\"Result:\", result)"
   ]
  },
  {
   "cell_type": "code",
   "execution_count": 44,
   "id": "dee6c0e6-2eb7-42d9-9b0a-a60cf0f3ef9a",
   "metadata": {},
   "outputs": [
    {
     "name": "stdout",
     "output_type": "stream",
     "text": [
      "Array 1: [1 2 3 4 5]\n",
      "Array 2: [5 4 3 2 1]\n",
      "Result: [ 1 16 27 16  5]\n"
     ]
    }
   ],
   "source": [
    "#question 55\n",
    "import numpy as np\n",
    "\n",
    "\n",
    "arr1 = np.arange(1, 6)\n",
    "print(\"Array 1:\", arr1)\n",
    "arr2 = np.flip(arr1)\n",
    "print(\"Array 2:\", arr2)\n",
    "\n",
    "# Calculate the exponentiation of arr1 raised to the power of arr2 element-wise\n",
    "result = arr1 ** arr2\n",
    "print(\"Result:\", result)"
   ]
  },
  {
   "cell_type": "code",
   "execution_count": 45,
   "id": "b52cad65-848d-4237-8a0b-36fe746940bc",
   "metadata": {},
   "outputs": [
    {
     "name": "stdout",
     "output_type": "stream",
     "text": [
      "3\n"
     ]
    }
   ],
   "source": [
    "#question 56\n",
    "def count_substring(arr, substring):\n",
    "    return np.count_nonzero(np.core.defchararray.find(arr, substring) != -1)\n",
    "arr = np.array(['hello', 'world', 'hello', 'numpy', 'hello'])\n",
    "substring = 'hello'\n",
    "print(count_substring(arr, substring))"
   ]
  },
  {
   "cell_type": "code",
   "execution_count": 49,
   "id": "5eb65031-243b-49cc-8eeb-e10f10588eae",
   "metadata": {},
   "outputs": [
    {
     "name": "stdout",
     "output_type": "stream",
     "text": [
      "['H' 'W' 'O' 'A' 'I' 'G' 'P' 'T']\n"
     ]
    }
   ],
   "source": [
    "#question 57\n",
    "def extract_upper(arr):\n",
    "    return np.array([ch for i in arr for ch in i if ch.isupper()]) \n",
    "arr = np.array(['Hello', 'World', 'OpenAI', 'GPT'])\n",
    "print(extract_upper(arr))"
   ]
  },
  {
   "cell_type": "code",
   "execution_count": 50,
   "id": "ab5fc1a1-ee54-41b5-a0a8-325a0e9e1428",
   "metadata": {},
   "outputs": [
    {
     "data": {
      "text/plain": [
       "array(['apple', 'banana', 'Wape', 'pineapple'], dtype='<U9')"
      ]
     },
     "execution_count": 50,
     "metadata": {},
     "output_type": "execute_result"
    }
   ],
   "source": [
    "#question 58\n",
    "def replace_substring(arr, old, new):\n",
    "    return np.char.replace(arr, old, new)\n",
    "arr = np.array(['apple', 'banana', 'grape', 'pineapple'])\n",
    "old = \"gr\"\n",
    "new = \"W\"\n",
    "replace_substring(arr,old,new)"
   ]
  },
  {
   "cell_type": "code",
   "execution_count": 52,
   "id": "0b059a76-db32-413a-b8e5-9e3b021c27af",
   "metadata": {},
   "outputs": [
    {
     "data": {
      "text/plain": [
       "array(['HelloOpen', 'WorldAI'], dtype='<U9')"
      ]
     },
     "execution_count": 52,
     "metadata": {},
     "output_type": "execute_result"
    }
   ],
   "source": [
    "#question 59\n",
    "def concat_strings(arr1, arr2):\n",
    "    return np.char.add(arr1, arr2)\n",
    "arr1 = np.array(['Hello', 'World'])\n",
    "arr2 = np.array(['Open', 'AI'])\n",
    "concat_strings(arr1,arr2)"
   ]
  },
  {
   "cell_type": "code",
   "execution_count": 56,
   "id": "dd1d197d-5eac-4178-b553-f19b168ec073",
   "metadata": {},
   "outputs": [
    {
     "data": {
      "text/plain": [
       "9"
      ]
     },
     "execution_count": 56,
     "metadata": {},
     "output_type": "execute_result"
    }
   ],
   "source": [
    "#question 60\n",
    "def longest_string(arr):\n",
    "    return np.max([len(s) for s in arr])\n",
    "arr = np.array(['apple', 'banana', 'grape', 'pineapple'])\n",
    "longest_string(arr)"
   ]
  },
  {
   "cell_type": "code",
   "execution_count": 58,
   "id": "ce6a731d-9924-43e2-9b8b-35a639b1aac1",
   "metadata": {},
   "outputs": [
    {
     "name": "stdout",
     "output_type": "stream",
     "text": [
      "mean :  472.0990099009901\n",
      "variance :  80302.50504852468\n",
      "median :  453.0\n"
     ]
    }
   ],
   "source": [
    "#question 61\n",
    "data = np.random.randint(1,1000,size = (101))\n",
    "print(\"mean : \",np.mean(data))\n",
    "print(\"variance : \",np.var(data))\n",
    "print(\"median : \" , np.median(data))\n"
   ]
  },
  {
   "cell_type": "code",
   "execution_count": 59,
   "id": "27a8b2ad-281c-40b1-98fa-a2348b6315f8",
   "metadata": {},
   "outputs": [
    {
     "name": "stdout",
     "output_type": "stream",
     "text": [
      "25th percentile: 27.5\n",
      "75th percentile: 73.75\n"
     ]
    }
   ],
   "source": [
    "#question 62\n",
    "\n",
    "arr = np.random.randint(1, 101, size=50)\n",
    "\n",
    "p25 = np.percentile(arr, 25)\n",
    "p75 = np.percentile(arr, 75)\n",
    "\n",
    "print(\"25th percentile:\", p25)\n",
    "print(\"75th percentile:\", p75)"
   ]
  },
  {
   "cell_type": "code",
   "execution_count": 60,
   "id": "225cb61a-e628-4a8c-9e3d-caf013c05582",
   "metadata": {},
   "outputs": [
    {
     "name": "stdout",
     "output_type": "stream",
     "text": [
      "Correlation Coefficient: 0.9999999999999999\n"
     ]
    }
   ],
   "source": [
    "#question 63\n",
    "array1 = np.array([1, 2, 3, 4, 5])\n",
    "array2 = np.array([2, 3, 4, 5, 6])\n",
    "\n",
    "# Compute the correlation coefficient between the arrays\n",
    "correlation_coefficient = np.corrcoef(array1, array2)[0, 1]\n",
    "\n",
    "print(\"Correlation Coefficient:\", correlation_coefficient)"
   ]
  },
  {
   "cell_type": "code",
   "execution_count": 61,
   "id": "8d8cacb3-5326-4e0a-ba95-f3f0c41a96f8",
   "metadata": {},
   "outputs": [
    {
     "name": "stdout",
     "output_type": "stream",
     "text": [
      "Result:\n",
      "[[19 22]\n",
      " [43 50]]\n"
     ]
    }
   ],
   "source": [
    "#question 64\n",
    "import numpy as np\n",
    "\n",
    "# Create two matrices\n",
    "matrix1 = np.array([[1, 2], [3, 4]])\n",
    "matrix2 = np.array([[5, 6], [7, 8]])\n",
    "\n",
    "# Perform matrix multiplication using NumPy's dot function\n",
    "result = np.dot(matrix1, matrix2)\n",
    "\n",
    "print(\"Result:\")\n",
    "print(result)"
   ]
  },
  {
   "cell_type": "code",
   "execution_count": 62,
   "id": "81858f69-b7f5-40ab-ab1a-ea2619f1894c",
   "metadata": {},
   "outputs": [
    {
     "name": "stdout",
     "output_type": "stream",
     "text": [
      "10th percentile: 98.6\n",
      "50th percentile (median): 437.5\n",
      "90th percentile: 871.7\n",
      "First quartile (25th percentile): 157.25\n",
      "Third quartile (75th percentile): 787.5\n"
     ]
    }
   ],
   "source": [
    "#question 65\n",
    "import numpy as np\n",
    "\n",
    "# Create an array of 50 integers between 10 and 1000\n",
    "arr = np.random.randint(10, 1001, size=50)\n",
    "\n",
    "# Calculate the 10th, 50th (median), and 90th percentiles\n",
    "p10 = np.percentile(arr, 10)\n",
    "p50 = np.percentile(arr, 50)\n",
    "p90 = np.percentile(arr, 90)\n",
    "\n",
    "# Calculate the first and third quartiles (25th and 75th percentiles)\n",
    "q1 = np.percentile(arr, 25)\n",
    "q3 = np.percentile(arr, 75)\n",
    "\n",
    "print(\"10th percentile:\", p10)\n",
    "print(\"50th percentile (median):\", p50)\n",
    "print(\"90th percentile:\", p90)\n",
    "print(\"First quartile (25th percentile):\", q1)\n",
    "print(\"Third quartile (75th percentile):\", q3)\n"
   ]
  },
  {
   "cell_type": "code",
   "execution_count": 63,
   "id": "2756eee9-0f2c-420d-ae52-a9b921728b8d",
   "metadata": {},
   "outputs": [
    {
     "name": "stdout",
     "output_type": "stream",
     "text": [
      "Index of 30: (array([2], dtype=int64),)\n"
     ]
    }
   ],
   "source": [
    "#question 66\n",
    "import numpy as np\n",
    "arr = np.array([10, 20, 30, 40, 50])\n",
    "\n",
    "index = np.where(arr == 30)\n",
    "\n",
    "print(\"Index of 30:\", index)"
   ]
  },
  {
   "cell_type": "code",
   "execution_count": 64,
   "id": "a7f4662f-5aae-45a9-9559-f8ab299c16ac",
   "metadata": {},
   "outputs": [
    {
     "name": "stdout",
     "output_type": "stream",
     "text": [
      "arr [5 9 8 6 2 9]\n",
      "arr_sorted [2 5 6 8 9 9]\n"
     ]
    }
   ],
   "source": [
    "#question 67\n",
    "arr = np.random.randint(1,10 ,size = (6))\n",
    "arr_sort = np.sort(arr)\n",
    "print(\"arr\", arr)\n",
    "print(\"arr_sorted\" ,arr_sort)"
   ]
  },
  {
   "cell_type": "code",
   "execution_count": 65,
   "id": "47107cc6-9568-4208-86ea-57a657bb2410",
   "metadata": {},
   "outputs": [
    {
     "name": "stdout",
     "output_type": "stream",
     "text": [
      "[25 42 30]\n"
     ]
    }
   ],
   "source": [
    "#question 68\n",
    "import numpy as np\n",
    "\n",
    "arr = np.array([12, 25, 6, 42, 8, 30])\n",
    "filtered_arr = arr[arr > 20]\n",
    "\n",
    "print(filtered_arr)"
   ]
  },
  {
   "cell_type": "code",
   "execution_count": 67,
   "id": "91044532-66ce-4f9a-b455-69058f2eeafe",
   "metadata": {},
   "outputs": [
    {
     "data": {
      "text/plain": [
       "array([12, 15])"
      ]
     },
     "execution_count": 67,
     "metadata": {},
     "output_type": "execute_result"
    }
   ],
   "source": [
    "#question 69\n",
    "arr = np.array([1, 5, 8, 12, 15])\n",
    "filtered_arr = arr[arr%3 == 0]\n",
    "filtered_arr\n"
   ]
  },
  {
   "cell_type": "code",
   "execution_count": 72,
   "id": "23398801-30e8-4408-bc8e-8b65f22b05a4",
   "metadata": {},
   "outputs": [
    {
     "data": {
      "text/plain": [
       "array([20, 30, 40])"
      ]
     },
     "execution_count": 72,
     "metadata": {},
     "output_type": "execute_result"
    }
   ],
   "source": [
    "#question 70\n",
    "arr = np.array([10, 20, 30, 40, 50])\n",
    "filtered_arr = arr[(arr>=20) & (arr<=40)]\n",
    "filtered_arr"
   ]
  },
  {
   "cell_type": "code",
   "execution_count": 73,
   "id": "e743de97-61d2-43eb-809f-d1dd4b3d5a91",
   "metadata": {},
   "outputs": [
    {
     "name": "stdout",
     "output_type": "stream",
     "text": [
      "=\n"
     ]
    }
   ],
   "source": [
    "#question 71\n",
    "import numpy as np\n",
    "\n",
    "arr = np.array([1, 2, 3])\n",
    "\n",
    "byte_order = arr.dtype.byteorder\n",
    "\n",
    "print(byte_order)"
   ]
  },
  {
   "cell_type": "code",
   "execution_count": 74,
   "id": "cfd65f89-f2e9-4222-a9eb-722c8d139ed5",
   "metadata": {},
   "outputs": [
    {
     "name": "stdout",
     "output_type": "stream",
     "text": [
      "Original array:\n",
      "[1 2 3]\n",
      "Array after byte swapping:\n",
      "[16777216 33554432 50331648]\n"
     ]
    }
   ],
   "source": [
    "#question 72\n",
    "import numpy as np\n",
    "\n",
    "arr = np.array([1, 2, 3], dtype=np.int32)\n",
    "\n",
    "print(\"Original array:\")\n",
    "print(arr)\n",
    "\n",
    "# Perform byte swapping in place\n",
    "arr.byteswap(inplace=True)\n",
    "\n",
    "print(\"Array after byte swapping:\")\n",
    "print(arr)"
   ]
  },
  {
   "cell_type": "code",
   "execution_count": 75,
   "id": "8bde0ee7-4a39-400e-b3f0-0cf9e3fd55c0",
   "metadata": {},
   "outputs": [
    {
     "name": "stdout",
     "output_type": "stream",
     "text": [
      "Original array:\n",
      "[1 2 3]\n",
      "Array with swapped byte order:\n",
      "[16777216 33554432 50331648]\n"
     ]
    }
   ],
   "source": [
    "#question 73\n",
    "arr = np.array([1, 2, 3], dtype=np.int32)\n",
    "\n",
    "print(\"Original array:\")\n",
    "print(arr)\n",
    "\n",
    "# Swap byte order without modifying the original array\n",
    "swapped_arr = arr.newbyteorder()\n",
    "\n",
    "print(\"Array with swapped byte order:\")\n",
    "print(swapped_arr)"
   ]
  },
  {
   "cell_type": "code",
   "execution_count": 76,
   "id": "91a46f48-5419-4731-8019-3bec7fe7b6d5",
   "metadata": {},
   "outputs": [
    {
     "name": "stdout",
     "output_type": "stream",
     "text": [
      "Original array:\n",
      "[1 2 3]\n",
      "Array with swapped byte order (if necessary):\n",
      "[16777216 33554432 50331648]\n"
     ]
    }
   ],
   "source": [
    "#question 74\n",
    "import numpy as np\n",
    "import sys\n",
    "\n",
    "arr = np.array([1, 2, 3], dtype=np.int32)\n",
    "print(\"Original array:\")\n",
    "print(arr)\n",
    "# Swap byte order conditionally based on system endianness\n",
    "if sys.byteorder == 'little':\n",
    "    swapped_arr = arr.newbyteorder('>')\n",
    "elif sys.byteorder == 'big':\n",
    "    swapped_arr = arr.newbyteorder('<')\n",
    "else:\n",
    "    raise ValueError(\"Unsupported system endianness\")\n",
    "\n",
    "print(\"Array with swapped byte order (if necessary):\")\n",
    "print(swapped_arr)"
   ]
  },
  {
   "cell_type": "code",
   "execution_count": 78,
   "id": "aec94ae8-8ec8-4f36-80ee-ee6e9505f524",
   "metadata": {},
   "outputs": [
    {
     "name": "stdout",
     "output_type": "stream",
     "text": [
      "Array dtype byteorder: =\n",
      "System byteorder: little\n",
      "Byte swapping is necessary\n"
     ]
    }
   ],
   "source": [
    "#question 75\n",
    "import numpy as np\n",
    "import sys\n",
    "\n",
    "arr = np.array([1, 2, 3], dtype=np.int32)\n",
    "\n",
    "print(\"Array dtype byteorder:\", arr.dtype.byteorder)\n",
    "print(\"System byteorder:\", sys.byteorder)\n",
    "\n",
    "if arr.dtype.byteorder != sys.byteorder:\n",
    "    print(\"Byte swapping is necessary\")\n",
    "else:\n",
    "    print(\"Byte swapping is not necessary\")"
   ]
  },
  {
   "cell_type": "code",
   "execution_count": 79,
   "id": "105960cd-52aa-4cc9-a38c-5d5a1bf403cd",
   "metadata": {},
   "outputs": [
    {
     "name": "stdout",
     "output_type": "stream",
     "text": [
      "Original array arr1:\n",
      "[ 1  2  3  4  5  6  7  8  9 10]\n",
      "\n",
      "Copy of arr1 named copy_arr:\n",
      "[ 1  2  3  4  5  6  7  8  9 10]\n",
      "\n",
      "Modified copy_arr:\n",
      "[100   2   3   4   5   6   7   8   9  10]\n",
      "\n",
      "Original array arr1 after modifying copy_arr:\n",
      "[ 1  2  3  4  5  6  7  8  9 10]\n"
     ]
    }
   ],
   "source": [
    "# Question 76\n",
    "\n",
    "# Create a NumPy array arr1 with values from 1 to 10\n",
    "arr1 = np.arange(1, 11)\n",
    "print(\"Original array arr1:\")\n",
    "print(arr1)\n",
    "\n",
    "# Create a copy of arr1 named copy_arr\n",
    "copy_arr = arr1.copy()\n",
    "print(\"\\nCopy of arr1 named copy_arr:\")\n",
    "print(copy_arr)\n",
    "\n",
    "# Modify an element in copy_arr\n",
    "copy_arr[0] = 100\n",
    "print(\"\\nModified copy_arr:\")\n",
    "print(copy_arr)\n",
    "\n",
    "# Check if modifying copy_arr affects arr1\n",
    "print(\"\\nOriginal array arr1 after modifying copy_arr:\")\n",
    "print(arr1)"
   ]
  },
  {
   "cell_type": "code",
   "execution_count": 81,
   "id": "22093203-896e-4ecd-a929-e3403a4f83f9",
   "metadata": {},
   "outputs": [
    {
     "name": "stdout",
     "output_type": "stream",
     "text": [
      "Original matrix:\n",
      "[[3 8 2]\n",
      " [5 8 7]\n",
      " [2 5 2]]\n",
      "\n",
      "Slice 'view_slice' from the matrix:\n",
      "[[3 8]\n",
      " [5 8]]\n",
      "\n",
      "Modified 'view_slice':\n",
      "[[100   8]\n",
      " [  5   8]]\n",
      "\n",
      "Original matrix after modifying 'view_slice':\n",
      "[[100   8   2]\n",
      " [  5   8   7]\n",
      " [  2   5   2]]\n",
      "it does affect the original array\n"
     ]
    }
   ],
   "source": [
    "#Question 77\n",
    "import numpy as np\n",
    "\n",
    "# Create a 2D NumPy array 'matrix' of shape (3, 3) with random integers\n",
    "matrix = np.random.randint(0, 10, size=(3, 3))\n",
    "print(\"Original matrix:\")\n",
    "print(matrix)\n",
    "\n",
    "# Extract a slice 'view_slice' from the matrix\n",
    "view_slice = matrix[:2, :2]\n",
    "print(\"\\nSlice 'view_slice' from the matrix:\")\n",
    "print(view_slice)\n",
    "\n",
    "# Modify an element in 'view_slice'\n",
    "view_slice[0, 0] = 100\n",
    "print(\"\\nModified 'view_slice':\")\n",
    "print(view_slice)\n",
    "\n",
    "# Observe if modifying 'view_slice' changes the original 'matrix'\n",
    "print(\"\\nOriginal matrix after modifying 'view_slice':\")\n",
    "print(matrix)\n",
    "print(\"it does affect the original array\")"
   ]
  },
  {
   "cell_type": "code",
   "execution_count": 82,
   "id": "04639b0d-d74f-4706-92e3-e0a7e86d5a82",
   "metadata": {},
   "outputs": [
    {
     "name": "stdout",
     "output_type": "stream",
     "text": [
      "Original array 'array_a':\n",
      "[[ 1  2  3]\n",
      " [ 4  5  6]\n",
      " [ 7  8  9]\n",
      " [10 11 12]]\n",
      "\n",
      "Slice 'view_b' from 'array_a':\n",
      "[[1 2]\n",
      " [4 5]]\n",
      "\n",
      "'view_b' after broadcasting addition of 5:\n",
      "[[ 6  7]\n",
      " [ 9 10]]\n",
      "\n",
      "Original 'array_a' after broadcasting addition of 5 to 'view_b':\n",
      "[[ 6  7  3]\n",
      " [ 9 10  6]\n",
      " [ 7  8  9]\n",
      " [10 11 12]]\n"
     ]
    }
   ],
   "source": [
    "#question 78\n",
    "import numpy as np\n",
    "\n",
    "# Create a NumPy array 'array_a' of shape (4, 3) with sequential integers from 1 to 12\n",
    "array_a = np.arange(1, 13).reshape(4, 3)\n",
    "print(\"Original array 'array_a':\")\n",
    "print(array_a)\n",
    "\n",
    "# Extract a slice 'view_b' from 'array_a'\n",
    "view_b = array_a[:2, :2]\n",
    "print(\"\\nSlice 'view_b' from 'array_a':\")\n",
    "print(view_b)\n",
    "\n",
    "# Broadcast the addition of 5 to 'view_b'\n",
    "view_b += 5\n",
    "print(\"\\n'view_b' after broadcasting addition of 5:\")\n",
    "print(view_b)\n",
    "\n",
    "# Check if it alters the original 'array_a'\n",
    "print(\"\\nOriginal 'array_a' after broadcasting addition of 5 to 'view_b':\")\n",
    "print(array_a)"
   ]
  },
  {
   "cell_type": "code",
   "execution_count": 83,
   "id": "03d1b2d8-b80e-46b8-8142-c99f0b4282a2",
   "metadata": {},
   "outputs": [
    {
     "name": "stdout",
     "output_type": "stream",
     "text": [
      "Original array 'orig_array':\n",
      "[[1 2 3 4]\n",
      " [5 6 7 8]]\n",
      "\n",
      "Reshaped view 'reshaped_view':\n",
      "[[1 2]\n",
      " [3 4]\n",
      " [5 6]\n",
      " [7 8]]\n",
      "\n",
      "Modified 'reshaped_view':\n",
      "[[100   2]\n",
      " [  3   4]\n",
      " [  5   6]\n",
      " [  7   8]]\n",
      "\n",
      "Original 'orig_array' after modifying 'reshaped_view':\n",
      "[[100   2   3   4]\n",
      " [  5   6   7   8]]\n"
     ]
    }
   ],
   "source": [
    "#question 79\n",
    "import numpy as np\n",
    "\n",
    "# Create a NumPy array 'orig_array' of shape (2, 4) with values from 1 to 8\n",
    "orig_array = np.arange(1, 9).reshape(2, 4)\n",
    "print(\"Original array 'orig_array':\")\n",
    "print(orig_array)\n",
    "\n",
    "# Create a reshaped view 'reshaped_view' of shape (4, 2) from orig_array\n",
    "reshaped_view = orig_array.reshape(4, 2)\n",
    "print(\"\\nReshaped view 'reshaped_view':\")\n",
    "print(reshaped_view)\n",
    "\n",
    "# Modify an element in 'reshaped_view'\n",
    "reshaped_view[0, 0] = 100\n",
    "print(\"\\nModified 'reshaped_view':\")\n",
    "print(reshaped_view)\n",
    "\n",
    "# Check if it reflects changes in the original 'orig_array'\n",
    "print(\"\\nOriginal 'orig_array' after modifying 'reshaped_view':\")\n",
    "print(orig_array)"
   ]
  },
  {
   "cell_type": "code",
   "execution_count": 84,
   "id": "cbc9c24c-173b-427e-b3e2-e8fa6391b879",
   "metadata": {},
   "outputs": [
    {
     "name": "stdout",
     "output_type": "stream",
     "text": [
      "Original array 'data':\n",
      "[[9 8 5 1]\n",
      " [0 8 5 4]\n",
      " [9 7 8 3]]\n",
      "\n",
      "Copy 'data_copy' of elements greater than 5:\n",
      "[9 8 8 9 7 8]\n",
      "\n",
      "Modified 'data_copy':\n",
      "[100   8   8   9   7   8]\n",
      "\n",
      "Original 'data' after modifying 'data_copy':\n",
      "[[9 8 5 1]\n",
      " [0 8 5 4]\n",
      " [9 7 8 3]]\n"
     ]
    }
   ],
   "source": [
    "#question 80\n",
    "import numpy as np\n",
    "\n",
    "# Create a NumPy array 'data' of shape (3, 4) with random integers\n",
    "data = np.random.randint(0, 10, size=(3, 4))\n",
    "print(\"Original array 'data':\")\n",
    "print(data)\n",
    "\n",
    "# Extract a copy 'data_copy' of elements greater than 5\n",
    "data_copy = data[data > 5].copy()\n",
    "print(\"\\nCopy 'data_copy' of elements greater than 5:\")\n",
    "print(data_copy)\n",
    "\n",
    "# Modify an element in 'data_copy'\n",
    "data_copy[0] = 100\n",
    "print(\"\\nModified 'data_copy':\")\n",
    "print(data_copy)\n",
    "\n",
    "# Verify if it affects the original 'data'\n",
    "print(\"\\nOriginal 'data' after modifying 'data_copy':\")\n",
    "print(data)"
   ]
  },
  {
   "cell_type": "code",
   "execution_count": 85,
   "id": "5c89298b-80b0-4ac8-aead-03ec8e4184ee",
   "metadata": {},
   "outputs": [
    {
     "name": "stdout",
     "output_type": "stream",
     "text": [
      "Matrix A:\n",
      "[[1 2 3]\n",
      " [4 5 6]]\n",
      "Matrix B:\n",
      "[[2 3 4]\n",
      " [5 6 7]]\n",
      "Addition result:\n",
      "[[ 3  5  7]\n",
      " [ 9 11 13]]\n",
      "Subtraction result:\n",
      "[[-1 -1 -1]\n",
      " [-1 -1 -1]]\n"
     ]
    }
   ],
   "source": [
    "# Question 81\n",
    "import numpy as np\n",
    "\n",
    "# Create two matrices A and B of identical shape containing integers\n",
    "A = np.array([[1, 2, 3], [4, 5, 6]])\n",
    "B = np.array([[2, 3, 4], [5, 6, 7]])\n",
    "\n",
    "print(\"Matrix A:\")\n",
    "print(A)\n",
    "print(\"Matrix B:\")\n",
    "print(B)\n",
    "\n",
    "# Perform addition between A and B\n",
    "addition_result = A + B\n",
    "print(\"Addition result:\")\n",
    "print(addition_result)\n",
    "\n",
    "# Perform subtraction between A and B\n",
    "subtraction_result = A - B\n",
    "print(\"Subtraction result:\")\n",
    "print(subtraction_result)"
   ]
  },
  {
   "cell_type": "code",
   "execution_count": 86,
   "id": "e30f67da-8215-4500-a971-2d940db93235",
   "metadata": {},
   "outputs": [
    {
     "name": "stdout",
     "output_type": "stream",
     "text": [
      "Matrix C:\n",
      "[[1 2]\n",
      " [3 4]\n",
      " [5 6]]\n",
      "Matrix D:\n",
      "[[1 2 3 4]\n",
      " [5 6 7 8]]\n",
      "Matrix multiplication result:\n",
      "[[11 14 17 20]\n",
      " [23 30 37 44]\n",
      " [35 46 57 68]]\n"
     ]
    }
   ],
   "source": [
    "#question 82\n",
    "# Generate two matrices C (3x2) and D (2x4)\n",
    "C = np.array([[1, 2], [3, 4], [5, 6]])\n",
    "D = np.array([[1, 2, 3, 4], [5, 6, 7, 8]])\n",
    "\n",
    "print(\"Matrix C:\")\n",
    "print(C)\n",
    "print(\"Matrix D:\")\n",
    "print(D)\n",
    "\n",
    "# Perform matrix multiplication between C and D\n",
    "result = np.matmul(C, D)\n",
    "print(\"Matrix multiplication result:\")\n",
    "print(result)"
   ]
  },
  {
   "cell_type": "code",
   "execution_count": 87,
   "id": "972670b7-a93c-4fff-8b20-251ed358e812",
   "metadata": {},
   "outputs": [
    {
     "name": "stdout",
     "output_type": "stream",
     "text": [
      "Matrix E:\n",
      "[[1 2 3]\n",
      " [4 5 6]]\n",
      "Transpose of Matrix E:\n",
      "[[1 4]\n",
      " [2 5]\n",
      " [3 6]]\n"
     ]
    }
   ],
   "source": [
    "#question 83\n",
    "import numpy as np\n",
    "\n",
    "# Create a matrix E\n",
    "E = np.array([[1, 2, 3], [4, 5, 6]])\n",
    "\n",
    "print(\"Matrix E:\")\n",
    "print(E)\n",
    "\n",
    "# Find the transpose of matrix E\n",
    "E_transpose = E.T\n",
    "\n",
    "print(\"Transpose of Matrix E:\")\n",
    "print(E_transpose)"
   ]
  },
  {
   "cell_type": "code",
   "execution_count": 88,
   "id": "59027886-d10e-46ec-8444-76eb6bcff21c",
   "metadata": {},
   "outputs": [
    {
     "name": "stdout",
     "output_type": "stream",
     "text": [
      "Matrix F:\n",
      "[[2 4]\n",
      " [6 8]]\n",
      "Determinant of Matrix F:\n",
      "-8.000000000000002\n"
     ]
    }
   ],
   "source": [
    "#question 84\n",
    "import numpy as np\n",
    "\n",
    "# Generate a square matrix F\n",
    "F = np.array([[2, 4], [6, 8]])\n",
    "\n",
    "print(\"Matrix F:\")\n",
    "print(F)\n",
    "\n",
    "# Compute the determinant of matrix F\n",
    "det_F = np.linalg.det(F)\n",
    "\n",
    "print(\"Determinant of Matrix F:\")\n",
    "print(det_F)"
   ]
  },
  {
   "cell_type": "code",
   "execution_count": 89,
   "id": "b967edea-b7bc-4c0a-a727-9998126e2e4e",
   "metadata": {},
   "outputs": [
    {
     "name": "stdout",
     "output_type": "stream",
     "text": [
      "Matrix G:\n",
      "[[4 7]\n",
      " [2 6]]\n",
      "Inverse of Matrix G:\n",
      "[[ 0.6 -0.7]\n",
      " [-0.2  0.4]]\n"
     ]
    }
   ],
   "source": [
    "#question 85\n",
    "# Create a square matrix G\n",
    "G = np.array([[4, 7], [2, 6]])\n",
    "\n",
    "print(\"Matrix G:\")\n",
    "print(G)\n",
    "\n",
    "# Find the inverse of matrix G\n",
    "G_inv = np.linalg.inv(G)\n",
    "\n",
    "print(\"Inverse of Matrix G:\")\n",
    "print(G_inv)"
   ]
  },
  {
   "cell_type": "code",
   "execution_count": null,
   "id": "8a4ed775-2edf-4024-a322-d4743a80c348",
   "metadata": {},
   "outputs": [],
   "source": []
  }
 ],
 "metadata": {
  "kernelspec": {
   "display_name": "Python 3 (ipykernel)",
   "language": "python",
   "name": "python3"
  },
  "language_info": {
   "codemirror_mode": {
    "name": "ipython",
    "version": 3
   },
   "file_extension": ".py",
   "mimetype": "text/x-python",
   "name": "python",
   "nbconvert_exporter": "python",
   "pygments_lexer": "ipython3",
   "version": "3.11.7"
  },
  "widgets": {
   "application/vnd.jupyter.widget-state+json": {
    "state": {},
    "version_major": 2,
    "version_minor": 0
   }
  }
 },
 "nbformat": 4,
 "nbformat_minor": 5
}
